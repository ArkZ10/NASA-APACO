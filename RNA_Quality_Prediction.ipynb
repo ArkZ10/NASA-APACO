{
  "nbformat": 4,
  "nbformat_minor": 0,
  "metadata": {
    "colab": {
      "provenance": []
    },
    "kernelspec": {
      "name": "python3",
      "display_name": "Python 3"
    },
    "language_info": {
      "name": "python"
    }
  },
  "cells": [
    {
      "cell_type": "code",
      "source": [
        "!git clone https://github.com/ArkZ10/APACO.git"
      ],
      "metadata": {
        "colab": {
          "base_uri": "https://localhost:8080/"
        },
        "id": "dmXlw-mzZ8xG",
        "outputId": "eeb4ddc5-6129-4fb8-ea09-82981db8255a"
      },
      "execution_count": 1,
      "outputs": [
        {
          "output_type": "stream",
          "name": "stdout",
          "text": [
            "Cloning into 'APACO'...\n",
            "remote: Enumerating objects: 12, done.\u001b[K\n",
            "remote: Counting objects: 100% (12/12), done.\u001b[K\n",
            "remote: Compressing objects: 100% (10/10), done.\u001b[K\n",
            "remote: Total 12 (delta 1), reused 5 (delta 0), pack-reused 0 (from 0)\u001b[K\n",
            "Receiving objects: 100% (12/12), 15.37 MiB | 8.06 MiB/s, done.\n",
            "Resolving deltas: 100% (1/1), done.\n"
          ]
        }
      ]
    },
    {
      "cell_type": "code",
      "source": [
        "import json\n",
        "import pandas as pd\n",
        "\n",
        "with open('/content/APACO/multiqc_data_665.json') as f:\n",
        "    data = json.load(f)\n"
      ],
      "metadata": {
        "id": "fA0ILQRRNxK3"
      },
      "execution_count": 2,
      "outputs": []
    },
    {
      "cell_type": "code",
      "source": [
        "with open('/content/APACO/multiqc_data_379.json') as f:\n",
        "    data_379 = json.load(f)\n",
        "\n",
        "general_stats_379 = data_379['report_general_stats_data']"
      ],
      "metadata": {
        "id": "etg3JMiVtl7O"
      },
      "execution_count": 3,
      "outputs": []
    },
    {
      "cell_type": "code",
      "source": [
        "general_stats = data['report_general_stats_data']\n",
        "\n",
        "flight_samples = {}\n",
        "hgc_samples = {}\n",
        "vgc_samples = {}\n",
        "\n",
        "\n",
        "for entry in general_stats:\n",
        "  for sample_name, stats in entry.items():\n",
        "      if \"FLT\" in sample_name:\n",
        "          flight_samples[sample_name] = stats\n",
        "      elif \"GC\" in sample_name:\n",
        "          hgc_samples[sample_name] = stats\n",
        "      elif \"VIV\" in sample_name:\n",
        "          vgc_samples[sample_name] = stats\n",
        "\n",
        "print(f\"Flight samples: {len(flight_samples)}\")\n",
        "print(f\"HGC samples: {len(hgc_samples)}\")\n",
        "print(f\"VGC samples: {len(vgc_samples)}\")\n"
      ],
      "metadata": {
        "colab": {
          "base_uri": "https://localhost:8080/"
        },
        "id": "UB3E-UXmOJxy",
        "outputId": "fa7656eb-bd34-48ee-9d98-349154298d47"
      },
      "execution_count": 4,
      "outputs": [
        {
          "output_type": "stream",
          "name": "stdout",
          "text": [
            "Flight samples: 20\n",
            "HGC samples: 20\n",
            "VGC samples: 20\n"
          ]
        }
      ]
    },
    {
      "cell_type": "code",
      "source": [
        "import pandas as pd\n",
        "\n",
        "summary = []\n",
        "\n",
        "for entry in general_stats:\n",
        "    for sample, stats in entry.items():\n",
        "        sample_summary = {\n",
        "            'Sample': sample,\n",
        "            'GC Content (%)': stats.get('percent_gc', 'N/A'),\n",
        "            'Average Sequence Length': stats.get('avg_sequence_length', 'N/A'),\n",
        "            'Total Sequences': stats.get('total_sequences', 'N/A'),\n",
        "            'Duplication Rate (%)': stats.get('percent_duplicates', 'N/A'),\n",
        "            'Failed Sequences (%)': stats.get('percent_fails', 'N/A')\n",
        "        }\n",
        "        summary.append(sample_summary)\n",
        "\n",
        "summary_665_df = pd.DataFrame(summary)\n",
        "summary_665_df.to_csv('/content/multiqc_summary_665.csv', index=False)"
      ],
      "metadata": {
        "id": "ZYbD6iT0gxhe"
      },
      "execution_count": 5,
      "outputs": []
    },
    {
      "cell_type": "code",
      "source": [
        "summary = []\n",
        "\n",
        "for entry in general_stats_379:\n",
        "    for sample, stats in entry.items():\n",
        "        sample_summary = {\n",
        "            'Sample': sample,\n",
        "            'GC Content (%)': stats.get('percent_gc', 'N/A'),\n",
        "            'Average Sequence Length': stats.get('avg_sequence_length', 'N/A'),\n",
        "            'Total Sequences': stats.get('total_sequences', 'N/A'),\n",
        "            'Duplication Rate (%)': stats.get('percent_duplicates', 'N/A'),\n",
        "            'Failed Sequences (%)': stats.get('percent_fails', 'N/A')\n",
        "        }\n",
        "        summary.append(sample_summary)\n",
        "\n",
        "summary_379_df = pd.DataFrame(summary)\n",
        "summary_379_df.to_csv('/content/multiqc_summary_379.csv', index=False)"
      ],
      "metadata": {
        "id": "HkCuMH-tt3Bs"
      },
      "execution_count": 6,
      "outputs": []
    },
    {
      "cell_type": "code",
      "source": [
        "df = pd.concat([summary_665_df, summary_379_df], ignore_index=True)\n",
        "df.head()"
      ],
      "metadata": {
        "colab": {
          "base_uri": "https://localhost:8080/",
          "height": 206
        },
        "id": "1s90i-Pgl5pk",
        "outputId": "abd3797d-6b26-4634-db22-76eecfbbe744"
      },
      "execution_count": 7,
      "outputs": [
        {
          "output_type": "execute_result",
          "data": {
            "text/plain": [
              "                     Sample  GC Content (%)  Average Sequence Length  \\\n",
              "0  RR23_R-EDL_FLT_F9_R2_raw            45.0                    151.0   \n",
              "1  RR23_R-EDL_FLT_F2_R2_raw            44.0                    151.0   \n",
              "2   RR23_R-EDL_GC_G6_R1_raw            45.0                    151.0   \n",
              "3  RR23_R-EDL_VIV_V5_R2_raw            45.0                    151.0   \n",
              "4   RR23_R-EDL_GC_G9_R2_raw            45.0                    151.0   \n",
              "\n",
              "   Total Sequences  Duplication Rate (%)  Failed Sequences (%)  \n",
              "0       98082584.0             75.899569             27.272727  \n",
              "1       94177785.0             76.702949             27.272727  \n",
              "2       90677361.0             76.868881             18.181818  \n",
              "3      109488221.0             76.717109             27.272727  \n",
              "4      106644836.0             75.975180             27.272727  "
            ],
            "text/html": [
              "\n",
              "  <div id=\"df-96cea1a6-6ae2-49fb-b88f-8ccb5be02a4d\" class=\"colab-df-container\">\n",
              "    <div>\n",
              "<style scoped>\n",
              "    .dataframe tbody tr th:only-of-type {\n",
              "        vertical-align: middle;\n",
              "    }\n",
              "\n",
              "    .dataframe tbody tr th {\n",
              "        vertical-align: top;\n",
              "    }\n",
              "\n",
              "    .dataframe thead th {\n",
              "        text-align: right;\n",
              "    }\n",
              "</style>\n",
              "<table border=\"1\" class=\"dataframe\">\n",
              "  <thead>\n",
              "    <tr style=\"text-align: right;\">\n",
              "      <th></th>\n",
              "      <th>Sample</th>\n",
              "      <th>GC Content (%)</th>\n",
              "      <th>Average Sequence Length</th>\n",
              "      <th>Total Sequences</th>\n",
              "      <th>Duplication Rate (%)</th>\n",
              "      <th>Failed Sequences (%)</th>\n",
              "    </tr>\n",
              "  </thead>\n",
              "  <tbody>\n",
              "    <tr>\n",
              "      <th>0</th>\n",
              "      <td>RR23_R-EDL_FLT_F9_R2_raw</td>\n",
              "      <td>45.0</td>\n",
              "      <td>151.0</td>\n",
              "      <td>98082584.0</td>\n",
              "      <td>75.899569</td>\n",
              "      <td>27.272727</td>\n",
              "    </tr>\n",
              "    <tr>\n",
              "      <th>1</th>\n",
              "      <td>RR23_R-EDL_FLT_F2_R2_raw</td>\n",
              "      <td>44.0</td>\n",
              "      <td>151.0</td>\n",
              "      <td>94177785.0</td>\n",
              "      <td>76.702949</td>\n",
              "      <td>27.272727</td>\n",
              "    </tr>\n",
              "    <tr>\n",
              "      <th>2</th>\n",
              "      <td>RR23_R-EDL_GC_G6_R1_raw</td>\n",
              "      <td>45.0</td>\n",
              "      <td>151.0</td>\n",
              "      <td>90677361.0</td>\n",
              "      <td>76.868881</td>\n",
              "      <td>18.181818</td>\n",
              "    </tr>\n",
              "    <tr>\n",
              "      <th>3</th>\n",
              "      <td>RR23_R-EDL_VIV_V5_R2_raw</td>\n",
              "      <td>45.0</td>\n",
              "      <td>151.0</td>\n",
              "      <td>109488221.0</td>\n",
              "      <td>76.717109</td>\n",
              "      <td>27.272727</td>\n",
              "    </tr>\n",
              "    <tr>\n",
              "      <th>4</th>\n",
              "      <td>RR23_R-EDL_GC_G9_R2_raw</td>\n",
              "      <td>45.0</td>\n",
              "      <td>151.0</td>\n",
              "      <td>106644836.0</td>\n",
              "      <td>75.975180</td>\n",
              "      <td>27.272727</td>\n",
              "    </tr>\n",
              "  </tbody>\n",
              "</table>\n",
              "</div>\n",
              "    <div class=\"colab-df-buttons\">\n",
              "\n",
              "  <div class=\"colab-df-container\">\n",
              "    <button class=\"colab-df-convert\" onclick=\"convertToInteractive('df-96cea1a6-6ae2-49fb-b88f-8ccb5be02a4d')\"\n",
              "            title=\"Convert this dataframe to an interactive table.\"\n",
              "            style=\"display:none;\">\n",
              "\n",
              "  <svg xmlns=\"http://www.w3.org/2000/svg\" height=\"24px\" viewBox=\"0 -960 960 960\">\n",
              "    <path d=\"M120-120v-720h720v720H120Zm60-500h600v-160H180v160Zm220 220h160v-160H400v160Zm0 220h160v-160H400v160ZM180-400h160v-160H180v160Zm440 0h160v-160H620v160ZM180-180h160v-160H180v160Zm440 0h160v-160H620v160Z\"/>\n",
              "  </svg>\n",
              "    </button>\n",
              "\n",
              "  <style>\n",
              "    .colab-df-container {\n",
              "      display:flex;\n",
              "      gap: 12px;\n",
              "    }\n",
              "\n",
              "    .colab-df-convert {\n",
              "      background-color: #E8F0FE;\n",
              "      border: none;\n",
              "      border-radius: 50%;\n",
              "      cursor: pointer;\n",
              "      display: none;\n",
              "      fill: #1967D2;\n",
              "      height: 32px;\n",
              "      padding: 0 0 0 0;\n",
              "      width: 32px;\n",
              "    }\n",
              "\n",
              "    .colab-df-convert:hover {\n",
              "      background-color: #E2EBFA;\n",
              "      box-shadow: 0px 1px 2px rgba(60, 64, 67, 0.3), 0px 1px 3px 1px rgba(60, 64, 67, 0.15);\n",
              "      fill: #174EA6;\n",
              "    }\n",
              "\n",
              "    .colab-df-buttons div {\n",
              "      margin-bottom: 4px;\n",
              "    }\n",
              "\n",
              "    [theme=dark] .colab-df-convert {\n",
              "      background-color: #3B4455;\n",
              "      fill: #D2E3FC;\n",
              "    }\n",
              "\n",
              "    [theme=dark] .colab-df-convert:hover {\n",
              "      background-color: #434B5C;\n",
              "      box-shadow: 0px 1px 3px 1px rgba(0, 0, 0, 0.15);\n",
              "      filter: drop-shadow(0px 1px 2px rgba(0, 0, 0, 0.3));\n",
              "      fill: #FFFFFF;\n",
              "    }\n",
              "  </style>\n",
              "\n",
              "    <script>\n",
              "      const buttonEl =\n",
              "        document.querySelector('#df-96cea1a6-6ae2-49fb-b88f-8ccb5be02a4d button.colab-df-convert');\n",
              "      buttonEl.style.display =\n",
              "        google.colab.kernel.accessAllowed ? 'block' : 'none';\n",
              "\n",
              "      async function convertToInteractive(key) {\n",
              "        const element = document.querySelector('#df-96cea1a6-6ae2-49fb-b88f-8ccb5be02a4d');\n",
              "        const dataTable =\n",
              "          await google.colab.kernel.invokeFunction('convertToInteractive',\n",
              "                                                    [key], {});\n",
              "        if (!dataTable) return;\n",
              "\n",
              "        const docLinkHtml = 'Like what you see? Visit the ' +\n",
              "          '<a target=\"_blank\" href=https://colab.research.google.com/notebooks/data_table.ipynb>data table notebook</a>'\n",
              "          + ' to learn more about interactive tables.';\n",
              "        element.innerHTML = '';\n",
              "        dataTable['output_type'] = 'display_data';\n",
              "        await google.colab.output.renderOutput(dataTable, element);\n",
              "        const docLink = document.createElement('div');\n",
              "        docLink.innerHTML = docLinkHtml;\n",
              "        element.appendChild(docLink);\n",
              "      }\n",
              "    </script>\n",
              "  </div>\n",
              "\n",
              "\n",
              "<div id=\"df-e91df5f2-c919-4fc0-bdd8-96763b1fc551\">\n",
              "  <button class=\"colab-df-quickchart\" onclick=\"quickchart('df-e91df5f2-c919-4fc0-bdd8-96763b1fc551')\"\n",
              "            title=\"Suggest charts\"\n",
              "            style=\"display:none;\">\n",
              "\n",
              "<svg xmlns=\"http://www.w3.org/2000/svg\" height=\"24px\"viewBox=\"0 0 24 24\"\n",
              "     width=\"24px\">\n",
              "    <g>\n",
              "        <path d=\"M19 3H5c-1.1 0-2 .9-2 2v14c0 1.1.9 2 2 2h14c1.1 0 2-.9 2-2V5c0-1.1-.9-2-2-2zM9 17H7v-7h2v7zm4 0h-2V7h2v10zm4 0h-2v-4h2v4z\"/>\n",
              "    </g>\n",
              "</svg>\n",
              "  </button>\n",
              "\n",
              "<style>\n",
              "  .colab-df-quickchart {\n",
              "      --bg-color: #E8F0FE;\n",
              "      --fill-color: #1967D2;\n",
              "      --hover-bg-color: #E2EBFA;\n",
              "      --hover-fill-color: #174EA6;\n",
              "      --disabled-fill-color: #AAA;\n",
              "      --disabled-bg-color: #DDD;\n",
              "  }\n",
              "\n",
              "  [theme=dark] .colab-df-quickchart {\n",
              "      --bg-color: #3B4455;\n",
              "      --fill-color: #D2E3FC;\n",
              "      --hover-bg-color: #434B5C;\n",
              "      --hover-fill-color: #FFFFFF;\n",
              "      --disabled-bg-color: #3B4455;\n",
              "      --disabled-fill-color: #666;\n",
              "  }\n",
              "\n",
              "  .colab-df-quickchart {\n",
              "    background-color: var(--bg-color);\n",
              "    border: none;\n",
              "    border-radius: 50%;\n",
              "    cursor: pointer;\n",
              "    display: none;\n",
              "    fill: var(--fill-color);\n",
              "    height: 32px;\n",
              "    padding: 0;\n",
              "    width: 32px;\n",
              "  }\n",
              "\n",
              "  .colab-df-quickchart:hover {\n",
              "    background-color: var(--hover-bg-color);\n",
              "    box-shadow: 0 1px 2px rgba(60, 64, 67, 0.3), 0 1px 3px 1px rgba(60, 64, 67, 0.15);\n",
              "    fill: var(--button-hover-fill-color);\n",
              "  }\n",
              "\n",
              "  .colab-df-quickchart-complete:disabled,\n",
              "  .colab-df-quickchart-complete:disabled:hover {\n",
              "    background-color: var(--disabled-bg-color);\n",
              "    fill: var(--disabled-fill-color);\n",
              "    box-shadow: none;\n",
              "  }\n",
              "\n",
              "  .colab-df-spinner {\n",
              "    border: 2px solid var(--fill-color);\n",
              "    border-color: transparent;\n",
              "    border-bottom-color: var(--fill-color);\n",
              "    animation:\n",
              "      spin 1s steps(1) infinite;\n",
              "  }\n",
              "\n",
              "  @keyframes spin {\n",
              "    0% {\n",
              "      border-color: transparent;\n",
              "      border-bottom-color: var(--fill-color);\n",
              "      border-left-color: var(--fill-color);\n",
              "    }\n",
              "    20% {\n",
              "      border-color: transparent;\n",
              "      border-left-color: var(--fill-color);\n",
              "      border-top-color: var(--fill-color);\n",
              "    }\n",
              "    30% {\n",
              "      border-color: transparent;\n",
              "      border-left-color: var(--fill-color);\n",
              "      border-top-color: var(--fill-color);\n",
              "      border-right-color: var(--fill-color);\n",
              "    }\n",
              "    40% {\n",
              "      border-color: transparent;\n",
              "      border-right-color: var(--fill-color);\n",
              "      border-top-color: var(--fill-color);\n",
              "    }\n",
              "    60% {\n",
              "      border-color: transparent;\n",
              "      border-right-color: var(--fill-color);\n",
              "    }\n",
              "    80% {\n",
              "      border-color: transparent;\n",
              "      border-right-color: var(--fill-color);\n",
              "      border-bottom-color: var(--fill-color);\n",
              "    }\n",
              "    90% {\n",
              "      border-color: transparent;\n",
              "      border-bottom-color: var(--fill-color);\n",
              "    }\n",
              "  }\n",
              "</style>\n",
              "\n",
              "  <script>\n",
              "    async function quickchart(key) {\n",
              "      const quickchartButtonEl =\n",
              "        document.querySelector('#' + key + ' button');\n",
              "      quickchartButtonEl.disabled = true;  // To prevent multiple clicks.\n",
              "      quickchartButtonEl.classList.add('colab-df-spinner');\n",
              "      try {\n",
              "        const charts = await google.colab.kernel.invokeFunction(\n",
              "            'suggestCharts', [key], {});\n",
              "      } catch (error) {\n",
              "        console.error('Error during call to suggestCharts:', error);\n",
              "      }\n",
              "      quickchartButtonEl.classList.remove('colab-df-spinner');\n",
              "      quickchartButtonEl.classList.add('colab-df-quickchart-complete');\n",
              "    }\n",
              "    (() => {\n",
              "      let quickchartButtonEl =\n",
              "        document.querySelector('#df-e91df5f2-c919-4fc0-bdd8-96763b1fc551 button');\n",
              "      quickchartButtonEl.style.display =\n",
              "        google.colab.kernel.accessAllowed ? 'block' : 'none';\n",
              "    })();\n",
              "  </script>\n",
              "</div>\n",
              "\n",
              "    </div>\n",
              "  </div>\n"
            ],
            "application/vnd.google.colaboratory.intrinsic+json": {
              "type": "dataframe",
              "variable_name": "df",
              "summary": "{\n  \"name\": \"df\",\n  \"rows\": 342,\n  \"fields\": [\n    {\n      \"column\": \"Sample\",\n      \"properties\": {\n        \"dtype\": \"string\",\n        \"num_unique_values\": 342,\n        \"samples\": [\n          \"RR8_LVR_VIV_LAR_OLD_VL20_R2_raw\",\n          \"RR8_LVR_BSL_LAR_YNG_BL6_R1_raw\",\n          \"RR8_LVR_GC_LAR_OLD_GL3_R2_raw\"\n        ],\n        \"semantic_type\": \"\",\n        \"description\": \"\"\n      }\n    },\n    {\n      \"column\": \"GC Content (%)\",\n      \"properties\": {\n        \"dtype\": \"number\",\n        \"std\": 2.5750936562071014,\n        \"min\": 43.0,\n        \"max\": 55.0,\n        \"num_unique_values\": 13,\n        \"samples\": [\n          53.0,\n          51.0,\n          45.0\n        ],\n        \"semantic_type\": \"\",\n        \"description\": \"\"\n      }\n    },\n    {\n      \"column\": \"Average Sequence Length\",\n      \"properties\": {\n        \"dtype\": \"number\",\n        \"std\": 0.7617981830365116,\n        \"min\": 149.0,\n        \"max\": 151.0,\n        \"num_unique_values\": 2,\n        \"samples\": [\n          149.0,\n          151.0\n        ],\n        \"semantic_type\": \"\",\n        \"description\": \"\"\n      }\n    },\n    {\n      \"column\": \"Total Sequences\",\n      \"properties\": {\n        \"dtype\": \"number\",\n        \"std\": 15844938.273532365,\n        \"min\": 49298440.0,\n        \"max\": 120555279.0,\n        \"num_unique_values\": 171,\n        \"samples\": [\n          64016078.0,\n          59557018.0\n        ],\n        \"semantic_type\": \"\",\n        \"description\": \"\"\n      }\n    },\n    {\n      \"column\": \"Duplication Rate (%)\",\n      \"properties\": {\n        \"dtype\": \"number\",\n        \"std\": 7.659744399107505,\n        \"min\": 52.79370454908239,\n        \"max\": 89.81029214805336,\n        \"num_unique_values\": 342,\n        \"samples\": [\n          83.84828373185249,\n          72.9966848388973\n        ],\n        \"semantic_type\": \"\",\n        \"description\": \"\"\n      }\n    },\n    {\n      \"column\": \"Failed Sequences (%)\",\n      \"properties\": {\n        \"dtype\": \"number\",\n        \"std\": 9.726379233357772,\n        \"min\": 9.090909090909092,\n        \"max\": 45.45454545454545,\n        \"num_unique_values\": 5,\n        \"samples\": [\n          18.181818181818183,\n          45.45454545454545\n        ],\n        \"semantic_type\": \"\",\n        \"description\": \"\"\n      }\n    }\n  ]\n}"
            }
          },
          "metadata": {},
          "execution_count": 7
        }
      ]
    },
    {
      "cell_type": "code",
      "source": [
        "df.info()"
      ],
      "metadata": {
        "colab": {
          "base_uri": "https://localhost:8080/"
        },
        "id": "zAfzfAiMoQFY",
        "outputId": "e5fe70a0-14fa-4cfb-e8a6-0a42cdb96ab9"
      },
      "execution_count": 8,
      "outputs": [
        {
          "output_type": "stream",
          "name": "stdout",
          "text": [
            "<class 'pandas.core.frame.DataFrame'>\n",
            "RangeIndex: 342 entries, 0 to 341\n",
            "Data columns (total 6 columns):\n",
            " #   Column                   Non-Null Count  Dtype  \n",
            "---  ------                   --------------  -----  \n",
            " 0   Sample                   342 non-null    object \n",
            " 1   GC Content (%)           342 non-null    float64\n",
            " 2   Average Sequence Length  342 non-null    float64\n",
            " 3   Total Sequences          342 non-null    float64\n",
            " 4   Duplication Rate (%)     342 non-null    float64\n",
            " 5   Failed Sequences (%)     342 non-null    float64\n",
            "dtypes: float64(5), object(1)\n",
            "memory usage: 16.2+ KB\n"
          ]
        }
      ]
    },
    {
      "cell_type": "code",
      "source": [
        "mean_duplication_rate = df['Failed Sequences (%)'].mean()\n",
        "\n",
        "print(f\"The mean duplication rate is: {mean_duplication_rate:.2f}%\")\n"
      ],
      "metadata": {
        "colab": {
          "base_uri": "https://localhost:8080/"
        },
        "id": "AQKqZrqcpY2l",
        "outputId": "74eaba53-1e80-48b2-9ef2-489687322755"
      },
      "execution_count": 9,
      "outputs": [
        {
          "output_type": "stream",
          "name": "stdout",
          "text": [
            "The mean duplication rate is: 29.45%\n"
          ]
        }
      ]
    },
    {
      "cell_type": "code",
      "source": [
        "df['quality_label'] = df.apply(lambda row: 0 if (row['Duplication Rate (%)'] > 77.70 or row['Failed Sequences (%)'] > 28) else 1, axis=1)\n"
      ],
      "metadata": {
        "id": "Uj4RcB5En6bb"
      },
      "execution_count": 10,
      "outputs": []
    },
    {
      "cell_type": "code",
      "source": [
        "df['quality_label'].value_counts()"
      ],
      "metadata": {
        "colab": {
          "base_uri": "https://localhost:8080/",
          "height": 178
        },
        "id": "o3cFcK0tqCfw",
        "outputId": "93b30565-f4c4-4041-852e-fe9332029157"
      },
      "execution_count": 11,
      "outputs": [
        {
          "output_type": "execute_result",
          "data": {
            "text/plain": [
              "quality_label\n",
              "0    197\n",
              "1    145\n",
              "Name: count, dtype: int64"
            ],
            "text/html": [
              "<div>\n",
              "<style scoped>\n",
              "    .dataframe tbody tr th:only-of-type {\n",
              "        vertical-align: middle;\n",
              "    }\n",
              "\n",
              "    .dataframe tbody tr th {\n",
              "        vertical-align: top;\n",
              "    }\n",
              "\n",
              "    .dataframe thead th {\n",
              "        text-align: right;\n",
              "    }\n",
              "</style>\n",
              "<table border=\"1\" class=\"dataframe\">\n",
              "  <thead>\n",
              "    <tr style=\"text-align: right;\">\n",
              "      <th></th>\n",
              "      <th>count</th>\n",
              "    </tr>\n",
              "    <tr>\n",
              "      <th>quality_label</th>\n",
              "      <th></th>\n",
              "    </tr>\n",
              "  </thead>\n",
              "  <tbody>\n",
              "    <tr>\n",
              "      <th>0</th>\n",
              "      <td>197</td>\n",
              "    </tr>\n",
              "    <tr>\n",
              "      <th>1</th>\n",
              "      <td>145</td>\n",
              "    </tr>\n",
              "  </tbody>\n",
              "</table>\n",
              "</div><br><label><b>dtype:</b> int64</label>"
            ]
          },
          "metadata": {},
          "execution_count": 11
        }
      ]
    },
    {
      "cell_type": "code",
      "source": [
        "from sklearn.model_selection import train_test_split\n",
        "from sklearn.linear_model import LogisticRegression\n",
        "from sklearn.metrics import accuracy_score\n",
        "\n",
        "X = df[['GC Content (%)', 'Total Sequences', 'Duplication Rate (%)', 'Failed Sequences (%)']]\n",
        "y = df['quality_label']\n",
        "\n",
        "X_train, X_test, y_train, y_test = train_test_split(X, y, test_size=0.2, random_state=42)\n",
        "\n",
        "model = LogisticRegression()\n",
        "model.fit(X_train, y_train)\n",
        "\n",
        "y_pred = model.predict(X_test)\n",
        "\n",
        "accuracy = accuracy_score(y_test, y_pred)\n",
        "print(f'Accuracy: {accuracy * 100:.2f}%')\n"
      ],
      "metadata": {
        "colab": {
          "base_uri": "https://localhost:8080/"
        },
        "id": "5qx_kFepqzUw",
        "outputId": "a8d7a6df-1f75-4127-c6ba-916a7ec75f2f"
      },
      "execution_count": 12,
      "outputs": [
        {
          "output_type": "stream",
          "name": "stdout",
          "text": [
            "Accuracy: 82.61%\n"
          ]
        },
        {
          "output_type": "stream",
          "name": "stderr",
          "text": [
            "/usr/local/lib/python3.10/dist-packages/sklearn/linear_model/_logistic.py:469: ConvergenceWarning: lbfgs failed to converge (status=1):\n",
            "STOP: TOTAL NO. of ITERATIONS REACHED LIMIT.\n",
            "\n",
            "Increase the number of iterations (max_iter) or scale the data as shown in:\n",
            "    https://scikit-learn.org/stable/modules/preprocessing.html\n",
            "Please also refer to the documentation for alternative solver options:\n",
            "    https://scikit-learn.org/stable/modules/linear_model.html#logistic-regression\n",
            "  n_iter_i = _check_optimize_result(\n"
          ]
        }
      ]
    },
    {
      "cell_type": "code",
      "source": [
        "train_accuracy = model.score(X_train, y_train)\n",
        "print(f'Training Accuracy: {train_accuracy * 100:.2f}%')\n",
        "\n",
        "test_accuracy = model.score(X_test, y_test)\n",
        "print(f'Test Accuracy: {test_accuracy * 100:.2f}%')\n"
      ],
      "metadata": {
        "colab": {
          "base_uri": "https://localhost:8080/"
        },
        "id": "x4j-ncoesTl4",
        "outputId": "060d0048-7e49-4576-b40b-954a2c38a812"
      },
      "execution_count": 13,
      "outputs": [
        {
          "output_type": "stream",
          "name": "stdout",
          "text": [
            "Training Accuracy: 82.42%\n",
            "Test Accuracy: 82.61%\n"
          ]
        }
      ]
    },
    {
      "cell_type": "code",
      "source": [],
      "metadata": {
        "id": "uvyvUDnKlpUZ"
      },
      "execution_count": null,
      "outputs": []
    }
  ]
}